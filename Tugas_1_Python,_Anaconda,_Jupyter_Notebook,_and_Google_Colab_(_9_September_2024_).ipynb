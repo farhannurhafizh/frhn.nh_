{
  "nbformat": 4,
  "nbformat_minor": 0,
  "metadata": {
    "colab": {
      "provenance": [],
      "authorship_tag": "ABX9TyNtrxEQyFMha3X674TLD4qR",
      "include_colab_link": true
    },
    "kernelspec": {
      "name": "python3",
      "display_name": "Python 3"
    },
    "language_info": {
      "name": "python"
    }
  },
  "cells": [
    {
      "cell_type": "markdown",
      "metadata": {
        "id": "view-in-github",
        "colab_type": "text"
      },
      "source": [
        "<a href=\"https://colab.research.google.com/github/farhannurhafizh/frhn.nh_/blob/main/Tugas_1_Python%2C_Anaconda%2C_Jupyter_Notebook%2C_and_Google_Colab_(_9_September_2024_).ipynb\" target=\"_parent\"><img src=\"https://colab.research.google.com/assets/colab-badge.svg\" alt=\"Open In Colab\"/></a>"
      ]
    },
    {
      "cell_type": "markdown",
      "source": [
        "# Mencetak Kalimat\n",
        "\n"
      ],
      "metadata": {
        "id": "RTX_HsNykyKR"
      }
    },
    {
      "cell_type": "code",
      "execution_count": null,
      "metadata": {
        "colab": {
          "base_uri": "https://localhost:8080/"
        },
        "id": "5MPpd_vLkpHo",
        "outputId": "2ff918f3-4ff8-4489-968c-e0f0c576a4c9"
      },
      "outputs": [
        {
          "output_type": "stream",
          "name": "stdout",
          "text": [
            "Halo Dunia\n"
          ]
        }
      ],
      "source": [
        "print('Halo Dunia')"
      ]
    },
    {
      "cell_type": "code",
      "source": [
        "print(\"Halo dunia\")"
      ],
      "metadata": {
        "colab": {
          "base_uri": "https://localhost:8080/"
        },
        "id": "rD8OO2H5lCbI",
        "outputId": "4c8f9fa1-fd0e-4adb-c648-af6852c594ca"
      },
      "execution_count": null,
      "outputs": [
        {
          "output_type": "stream",
          "name": "stdout",
          "text": [
            "Halo dunia\n"
          ]
        }
      ]
    },
    {
      "cell_type": "code",
      "source": [
        "print(\"Besok hari Jum'at\")"
      ],
      "metadata": {
        "colab": {
          "base_uri": "https://localhost:8080/"
        },
        "id": "y40mjArwlMEA",
        "outputId": "63e0cc1d-58fd-4d1a-e041-00fdd2bbdede"
      },
      "execution_count": null,
      "outputs": [
        {
          "output_type": "stream",
          "name": "stdout",
          "text": [
            "Besok hari Jum'at\n"
          ]
        }
      ]
    },
    {
      "cell_type": "code",
      "source": [
        "print('Besok hari Jum\\'at')"
      ],
      "metadata": {
        "colab": {
          "base_uri": "https://localhost:8080/"
        },
        "id": "GCLRxM9OleQ0",
        "outputId": "f33c996b-a071-4a72-a486-4e4da31959f0"
      },
      "execution_count": null,
      "outputs": [
        {
          "output_type": "stream",
          "name": "stdout",
          "text": [
            "Besok hari Jum'at\n"
          ]
        }
      ]
    },
    {
      "cell_type": "markdown",
      "source": [
        "# Komentar (Coment)"
      ],
      "metadata": {
        "id": "NCZVC3DtlkNj"
      }
    },
    {
      "cell_type": "code",
      "source": [
        "# Ini adalah program untuk mencetak kalimat\n",
        "print('Selamat Pagi')"
      ],
      "metadata": {
        "colab": {
          "base_uri": "https://localhost:8080/"
        },
        "id": "BwaItVxCln_7",
        "outputId": "e761636f-ddc0-45c4-c07b-aebbb746f662"
      },
      "execution_count": null,
      "outputs": [
        {
          "output_type": "stream",
          "name": "stdout",
          "text": [
            "Selamat Pagi\n"
          ]
        }
      ]
    },
    {
      "cell_type": "markdown",
      "source": [
        "# Multiple Code"
      ],
      "metadata": {
        "id": "kjtB3NT_l6sq"
      }
    },
    {
      "cell_type": "code",
      "source": [
        "print('Halo Dunia')\n",
        "print('Python Menyenangkan')\n",
        "print('Mudah Mempelajari Python')\n",
        "print('Selesai')"
      ],
      "metadata": {
        "colab": {
          "base_uri": "https://localhost:8080/"
        },
        "id": "mIW3dAavl_CE",
        "outputId": "80530f24-5428-48cd-eb51-dde5b04cb748"
      },
      "execution_count": null,
      "outputs": [
        {
          "output_type": "stream",
          "name": "stdout",
          "text": [
            "Halo Dunia\n",
            "Python Menyenangkan\n",
            "Mudah Mempelajari Python\n",
            "Selesai\n"
          ]
        }
      ]
    },
    {
      "cell_type": "markdown",
      "source": [
        "### Cara Menjadikan Coding 1 Baris\n",
        "\n",
        "\n",
        "\n",
        "\n"
      ],
      "metadata": {
        "id": "o-9eWJl9m5v-"
      }
    },
    {
      "cell_type": "code",
      "source": [
        "print('Halo Dunia', end=' ')\n",
        "print('Python Menyenangkan', end=' ')\n",
        "print('Mudah Mempelajari Python', end=' ')\n",
        "print('Selesai', end=' ')"
      ],
      "metadata": {
        "colab": {
          "base_uri": "https://localhost:8080/"
        },
        "id": "rVICtgifmjpS",
        "outputId": "4be7eade-09d0-45dd-925c-03eece7b3f21"
      },
      "execution_count": null,
      "outputs": [
        {
          "output_type": "stream",
          "name": "stdout",
          "text": [
            "Halo Dunia Python Menyenangkan Mudah Mempelajari Python Selesai "
          ]
        }
      ]
    },
    {
      "cell_type": "markdown",
      "source": [
        "### Cara Membuat Paragraf"
      ],
      "metadata": {
        "id": "pOBMU--Anlua"
      }
    },
    {
      "cell_type": "code",
      "source": [
        "print(\"\"\"Ini adalah sebuah paragraf\n",
        "paragraf ini sangatlah panjang\n",
        "sekali\"\"\")"
      ],
      "metadata": {
        "colab": {
          "base_uri": "https://localhost:8080/"
        },
        "id": "G2KGftvfnL3A",
        "outputId": "18a13675-3d3c-4bf1-f6e8-efa4b6c90e89"
      },
      "execution_count": null,
      "outputs": [
        {
          "output_type": "stream",
          "name": "stdout",
          "text": [
            "Ini adalah sebuah paragraf\n",
            "paragraf ini sangatlah panjang \n",
            "sekali\n"
          ]
        }
      ]
    },
    {
      "cell_type": "markdown",
      "source": [
        "# Escape Character"
      ],
      "metadata": {
        "id": "OFwHl_Z6mQuc"
      }
    },
    {
      "cell_type": "code",
      "source": [
        "print(\"satu dua tiga\")"
      ],
      "metadata": {
        "colab": {
          "base_uri": "https://localhost:8080/"
        },
        "id": "8GFwOJfwmTEj",
        "outputId": "66615a67-ae33-43c4-e000-a9e2e34f45ed"
      },
      "execution_count": null,
      "outputs": [
        {
          "output_type": "stream",
          "name": "stdout",
          "text": [
            "satu dua tiga\n"
          ]
        }
      ]
    },
    {
      "cell_type": "code",
      "source": [
        "print(\"satu\\ndua\\ntiga\\n\")"
      ],
      "metadata": {
        "colab": {
          "base_uri": "https://localhost:8080/"
        },
        "id": "ZxqF8YkgoYba",
        "outputId": "598a8b9f-1644-477e-f15a-61c0bf568965"
      },
      "execution_count": null,
      "outputs": [
        {
          "output_type": "stream",
          "name": "stdout",
          "text": [
            "satu\n",
            "dua\n",
            "tiga\n",
            "\n"
          ]
        }
      ]
    },
    {
      "cell_type": "code",
      "source": [
        "print('Nama : Farhan')\n",
        "print('Tempat Tinggal : Jakarta')"
      ],
      "metadata": {
        "colab": {
          "base_uri": "https://localhost:8080/"
        },
        "id": "eS8eKsmqo_Ns",
        "outputId": "57e60a74-97db-49bc-8f42-e4eae4492fbe"
      },
      "execution_count": null,
      "outputs": [
        {
          "output_type": "stream",
          "name": "stdout",
          "text": [
            "Nama : Farhan\n",
            "Tempat Tinggal : Jakarta\n"
          ]
        }
      ]
    },
    {
      "cell_type": "code",
      "source": [
        "print('Nama\\t\\t : Farhan')\n",
        "print('Tempat Tinggal\\t : Jakarta')"
      ],
      "metadata": {
        "colab": {
          "base_uri": "https://localhost:8080/"
        },
        "id": "CR7bdWX-pYOy",
        "outputId": "bc4fe7bc-6011-455c-db07-a46f3a19f519"
      },
      "execution_count": null,
      "outputs": [
        {
          "output_type": "stream",
          "name": "stdout",
          "text": [
            "Nama\t\t : Farhan\n",
            "Tempat Tinggal\t : Jakarta\n"
          ]
        }
      ]
    },
    {
      "cell_type": "code",
      "source": [
        "print(\"\\\\\")"
      ],
      "metadata": {
        "colab": {
          "base_uri": "https://localhost:8080/"
        },
        "id": "nqdv7SxPpvve",
        "outputId": "0a74941a-443d-450a-fc07-e788c414036d"
      },
      "execution_count": null,
      "outputs": [
        {
          "output_type": "stream",
          "name": "stdout",
          "text": [
            "\\\n"
          ]
        }
      ]
    },
    {
      "cell_type": "markdown",
      "source": [
        "# Input"
      ],
      "metadata": {
        "id": "CPFXT5Ckp1qV"
      }
    },
    {
      "cell_type": "code",
      "source": [
        "input('Masukkan nama :')"
      ],
      "metadata": {
        "colab": {
          "base_uri": "https://localhost:8080/",
          "height": 53
        },
        "id": "nWeQ0qQPp3M3",
        "outputId": "d0af3fea-62d8-4a97-804c-0dde5d643791"
      },
      "execution_count": null,
      "outputs": [
        {
          "name": "stdout",
          "output_type": "stream",
          "text": [
            "Masukkan nama :Farhan \n"
          ]
        },
        {
          "output_type": "execute_result",
          "data": {
            "text/plain": [
              "'Farhan '"
            ],
            "application/vnd.google.colaboratory.intrinsic+json": {
              "type": "string"
            }
          },
          "metadata": {},
          "execution_count": 17
        }
      ]
    },
    {
      "cell_type": "code",
      "source": [
        "input('Masukkan Nama : ')\n",
        "input('Masukkan Tempat Tinggal : ')\n",
        "input('Masukkan Hobi : ')\n",
        "input('Masukkan Jenis Kelamin : ')"
      ],
      "metadata": {
        "colab": {
          "base_uri": "https://localhost:8080/",
          "height": 105
        },
        "id": "KQbfvQPeqGW8",
        "outputId": "cc8f338a-dbd7-4a94-be25-624e642e5de4"
      },
      "execution_count": null,
      "outputs": [
        {
          "name": "stdout",
          "output_type": "stream",
          "text": [
            "Masukkan Nama : Farhan\n",
            "Masukkan Tempat Tinggal : Jakarta\n",
            "Masukkan Hobi : Membaca buku\n",
            "Masukkan Jenis Kelamin : Laki-Laki\n"
          ]
        },
        {
          "output_type": "execute_result",
          "data": {
            "text/plain": [
              "'Laki-Laki'"
            ],
            "application/vnd.google.colaboratory.intrinsic+json": {
              "type": "string"
            }
          },
          "metadata": {},
          "execution_count": 18
        }
      ]
    }
  ]
}